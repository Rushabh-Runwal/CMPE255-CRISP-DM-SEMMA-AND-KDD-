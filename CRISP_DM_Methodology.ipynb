{
  "nbformat": 4,
  "nbformat_minor": 0,
  "metadata": {
    "colab": {
      "provenance": []
    },
    "kernelspec": {
      "name": "python3",
      "display_name": "Python 3"
    },
    "language_info": {
      "name": "python"
    }
  },
  "cells": [
    {
      "cell_type": "code",
      "execution_count": 1,
      "metadata": {
        "colab": {
          "base_uri": "https://localhost:8080/"
        },
        "id": "k9aP4GzysOMf",
        "outputId": "a222159d-ee1f-48ce-adab-0eaadcadf899"
      },
      "outputs": [
        {
          "output_type": "stream",
          "name": "stdout",
          "text": [
            "Downloading...\n",
            "From: https://drive.google.com/uc?id=1seOAJxGY0MxdR90-emKqGFY0ejUcp8tn\n",
            "To: /content/kaggle.json\n",
            "\r  0% 0.00/69.0 [00:00<?, ?B/s]\r100% 69.0/69.0 [00:00<00:00, 285kB/s]\n",
            "Dataset URL: https://www.kaggle.com/datasets/ddosad/auto-sales-data\n",
            "License(s): other\n",
            "Downloading auto-sales-data.zip to /content\n",
            "100% 79.2k/79.2k [00:00<00:00, 505kB/s]\n",
            "100% 79.2k/79.2k [00:00<00:00, 504kB/s]\n"
          ]
        }
      ],
      "source": [
        "!gdown 1seOAJxGY0MxdR90-emKqGFY0ejUcp8tn\n",
        "!mkdir -p ~/.kaggle\n",
        "!cp kaggle.json ~/.kaggle/\n",
        "!chmod 600 ~/.kaggle/kaggle.json\n",
        "!kaggle datasets download -d ddosad/auto-sales-data"
      ]
    },
    {
      "cell_type": "code",
      "source": [
        "!unzip /content/auto-sales-data.zip"
      ],
      "metadata": {
        "colab": {
          "base_uri": "https://localhost:8080/"
        },
        "id": "BQZlaQ4gtuJi",
        "outputId": "3ef66823-cba0-4905-c5ea-8ee73064163e"
      },
      "execution_count": 2,
      "outputs": [
        {
          "output_type": "stream",
          "name": "stdout",
          "text": [
            "Archive:  /content/auto-sales-data.zip\n",
            "  inflating: Auto Sales data.csv     \n"
          ]
        }
      ]
    },
    {
      "cell_type": "markdown",
      "source": [
        "#Step 1: Business Understanding (CRISP-DM Phase 1)\n",
        "#Objective:\n",
        "The key objective is to understand the goals of the business, formulate data mining objectives, and define success criteria. For this dataset, we'll assume that you, as an automotive company, are interested in increasing sales and improving customer retention.\n",
        "\n",
        "#Key Questions:\n",
        "What are the main factors influencing sales?\n",
        "How do customer purchasing patterns (e.g., days since the last order) affect sales?\n",
        "What categories of products are performing best?\n",
        "Can we predict future sales for a given time period?\n",
        "#Hypotheses:\n",
        "Larger deal sizes (represented by the \"DEALSIZE\" column) contribute to higher overall sales.\n",
        "Customers who make repeat orders quickly (lower \"DAYS_SINCE_LASTORDER\") are more likely to contribute more to overall sales.\n",
        "Certain product lines (from the \"PRODUCTLINE\" column) may perform better than others.\n",
        "#Success Criteria:\n",
        "A predictive model that can forecast future sales based on customer and product data.\n",
        "Insights into the most valuable customers and which products drive the most revenue.\n",
        "Identifying key features contributing to sales volume (e.g., deal size, product line, etc.).\n"
      ],
      "metadata": {
        "id": "SfwswOcltE-3"
      }
    },
    {
      "cell_type": "markdown",
      "source": [
        "Loading the Dataset and Initial EDA"
      ],
      "metadata": {
        "id": "LAtUEDJ2toJu"
      }
    },
    {
      "cell_type": "code",
      "source": [
        "import pandas as pd\n",
        "import matplotlib.pyplot as plt\n",
        "\n",
        "# Load the dataset\n",
        "file_path = './Auto Sales data.csv'\n",
        "auto_sales_data = pd.read_csv(file_path)\n",
        "\n",
        "# Display the first few rows\n",
        "auto_sales_data.head()"
      ],
      "metadata": {
        "colab": {
          "base_uri": "https://localhost:8080/",
          "height": 330
        },
        "id": "YCYgJrWgs0Tu",
        "outputId": "2e53326a-d95f-44d4-8071-4af3ba6fb73e"
      },
      "execution_count": 5,
      "outputs": [
        {
          "output_type": "execute_result",
          "data": {
            "text/plain": [
              "   ORDERNUMBER  QUANTITYORDERED  PRICEEACH  ORDERLINENUMBER    SALES  \\\n",
              "0        10107               30      95.70                2  2871.00   \n",
              "1        10121               34      81.35                5  2765.90   \n",
              "2        10134               41      94.74                2  3884.34   \n",
              "3        10145               45      83.26                6  3746.70   \n",
              "4        10168               36      96.66                1  3479.76   \n",
              "\n",
              "    ORDERDATE  DAYS_SINCE_LASTORDER   STATUS  PRODUCTLINE  MSRP PRODUCTCODE  \\\n",
              "0  24/02/2018                   828  Shipped  Motorcycles    95    S10_1678   \n",
              "1  07/05/2018                   757  Shipped  Motorcycles    95    S10_1678   \n",
              "2  01/07/2018                   703  Shipped  Motorcycles    95    S10_1678   \n",
              "3  25/08/2018                   649  Shipped  Motorcycles    95    S10_1678   \n",
              "4  28/10/2018                   586  Shipped  Motorcycles    95    S10_1678   \n",
              "\n",
              "           CUSTOMERNAME             PHONE                   ADDRESSLINE1  \\\n",
              "0     Land of Toys Inc.        2125557818        897 Long Airport Avenue   \n",
              "1    Reims Collectables        26.47.1555             59 rue de l'Abbaye   \n",
              "2       Lyon Souveniers  +33 1 46 62 7555  27 rue du Colonel Pierre Avia   \n",
              "3     Toys4GrownUps.com        6265557265             78934 Hillside Dr.   \n",
              "4  Technics Stores Inc.        6505556809              9408 Furth Circle   \n",
              "\n",
              "         CITY POSTALCODE COUNTRY CONTACTLASTNAME CONTACTFIRSTNAME DEALSIZE  \n",
              "0         NYC      10022     USA              Yu             Kwai    Small  \n",
              "1       Reims      51100  France         Henriot             Paul    Small  \n",
              "2       Paris      75508  France        Da Cunha           Daniel   Medium  \n",
              "3    Pasadena      90003     USA           Young            Julie   Medium  \n",
              "4  Burlingame      94217     USA          Hirano             Juri   Medium  "
            ],
            "text/html": [
              "\n",
              "  <div id=\"df-91671e1c-299c-47cd-9c95-ee23d121a661\" class=\"colab-df-container\">\n",
              "    <div>\n",
              "<style scoped>\n",
              "    .dataframe tbody tr th:only-of-type {\n",
              "        vertical-align: middle;\n",
              "    }\n",
              "\n",
              "    .dataframe tbody tr th {\n",
              "        vertical-align: top;\n",
              "    }\n",
              "\n",
              "    .dataframe thead th {\n",
              "        text-align: right;\n",
              "    }\n",
              "</style>\n",
              "<table border=\"1\" class=\"dataframe\">\n",
              "  <thead>\n",
              "    <tr style=\"text-align: right;\">\n",
              "      <th></th>\n",
              "      <th>ORDERNUMBER</th>\n",
              "      <th>QUANTITYORDERED</th>\n",
              "      <th>PRICEEACH</th>\n",
              "      <th>ORDERLINENUMBER</th>\n",
              "      <th>SALES</th>\n",
              "      <th>ORDERDATE</th>\n",
              "      <th>DAYS_SINCE_LASTORDER</th>\n",
              "      <th>STATUS</th>\n",
              "      <th>PRODUCTLINE</th>\n",
              "      <th>MSRP</th>\n",
              "      <th>PRODUCTCODE</th>\n",
              "      <th>CUSTOMERNAME</th>\n",
              "      <th>PHONE</th>\n",
              "      <th>ADDRESSLINE1</th>\n",
              "      <th>CITY</th>\n",
              "      <th>POSTALCODE</th>\n",
              "      <th>COUNTRY</th>\n",
              "      <th>CONTACTLASTNAME</th>\n",
              "      <th>CONTACTFIRSTNAME</th>\n",
              "      <th>DEALSIZE</th>\n",
              "    </tr>\n",
              "  </thead>\n",
              "  <tbody>\n",
              "    <tr>\n",
              "      <th>0</th>\n",
              "      <td>10107</td>\n",
              "      <td>30</td>\n",
              "      <td>95.70</td>\n",
              "      <td>2</td>\n",
              "      <td>2871.00</td>\n",
              "      <td>24/02/2018</td>\n",
              "      <td>828</td>\n",
              "      <td>Shipped</td>\n",
              "      <td>Motorcycles</td>\n",
              "      <td>95</td>\n",
              "      <td>S10_1678</td>\n",
              "      <td>Land of Toys Inc.</td>\n",
              "      <td>2125557818</td>\n",
              "      <td>897 Long Airport Avenue</td>\n",
              "      <td>NYC</td>\n",
              "      <td>10022</td>\n",
              "      <td>USA</td>\n",
              "      <td>Yu</td>\n",
              "      <td>Kwai</td>\n",
              "      <td>Small</td>\n",
              "    </tr>\n",
              "    <tr>\n",
              "      <th>1</th>\n",
              "      <td>10121</td>\n",
              "      <td>34</td>\n",
              "      <td>81.35</td>\n",
              "      <td>5</td>\n",
              "      <td>2765.90</td>\n",
              "      <td>07/05/2018</td>\n",
              "      <td>757</td>\n",
              "      <td>Shipped</td>\n",
              "      <td>Motorcycles</td>\n",
              "      <td>95</td>\n",
              "      <td>S10_1678</td>\n",
              "      <td>Reims Collectables</td>\n",
              "      <td>26.47.1555</td>\n",
              "      <td>59 rue de l'Abbaye</td>\n",
              "      <td>Reims</td>\n",
              "      <td>51100</td>\n",
              "      <td>France</td>\n",
              "      <td>Henriot</td>\n",
              "      <td>Paul</td>\n",
              "      <td>Small</td>\n",
              "    </tr>\n",
              "    <tr>\n",
              "      <th>2</th>\n",
              "      <td>10134</td>\n",
              "      <td>41</td>\n",
              "      <td>94.74</td>\n",
              "      <td>2</td>\n",
              "      <td>3884.34</td>\n",
              "      <td>01/07/2018</td>\n",
              "      <td>703</td>\n",
              "      <td>Shipped</td>\n",
              "      <td>Motorcycles</td>\n",
              "      <td>95</td>\n",
              "      <td>S10_1678</td>\n",
              "      <td>Lyon Souveniers</td>\n",
              "      <td>+33 1 46 62 7555</td>\n",
              "      <td>27 rue du Colonel Pierre Avia</td>\n",
              "      <td>Paris</td>\n",
              "      <td>75508</td>\n",
              "      <td>France</td>\n",
              "      <td>Da Cunha</td>\n",
              "      <td>Daniel</td>\n",
              "      <td>Medium</td>\n",
              "    </tr>\n",
              "    <tr>\n",
              "      <th>3</th>\n",
              "      <td>10145</td>\n",
              "      <td>45</td>\n",
              "      <td>83.26</td>\n",
              "      <td>6</td>\n",
              "      <td>3746.70</td>\n",
              "      <td>25/08/2018</td>\n",
              "      <td>649</td>\n",
              "      <td>Shipped</td>\n",
              "      <td>Motorcycles</td>\n",
              "      <td>95</td>\n",
              "      <td>S10_1678</td>\n",
              "      <td>Toys4GrownUps.com</td>\n",
              "      <td>6265557265</td>\n",
              "      <td>78934 Hillside Dr.</td>\n",
              "      <td>Pasadena</td>\n",
              "      <td>90003</td>\n",
              "      <td>USA</td>\n",
              "      <td>Young</td>\n",
              "      <td>Julie</td>\n",
              "      <td>Medium</td>\n",
              "    </tr>\n",
              "    <tr>\n",
              "      <th>4</th>\n",
              "      <td>10168</td>\n",
              "      <td>36</td>\n",
              "      <td>96.66</td>\n",
              "      <td>1</td>\n",
              "      <td>3479.76</td>\n",
              "      <td>28/10/2018</td>\n",
              "      <td>586</td>\n",
              "      <td>Shipped</td>\n",
              "      <td>Motorcycles</td>\n",
              "      <td>95</td>\n",
              "      <td>S10_1678</td>\n",
              "      <td>Technics Stores Inc.</td>\n",
              "      <td>6505556809</td>\n",
              "      <td>9408 Furth Circle</td>\n",
              "      <td>Burlingame</td>\n",
              "      <td>94217</td>\n",
              "      <td>USA</td>\n",
              "      <td>Hirano</td>\n",
              "      <td>Juri</td>\n",
              "      <td>Medium</td>\n",
              "    </tr>\n",
              "  </tbody>\n",
              "</table>\n",
              "</div>\n",
              "    <div class=\"colab-df-buttons\">\n",
              "\n",
              "  <div class=\"colab-df-container\">\n",
              "    <button class=\"colab-df-convert\" onclick=\"convertToInteractive('df-91671e1c-299c-47cd-9c95-ee23d121a661')\"\n",
              "            title=\"Convert this dataframe to an interactive table.\"\n",
              "            style=\"display:none;\">\n",
              "\n",
              "  <svg xmlns=\"http://www.w3.org/2000/svg\" height=\"24px\" viewBox=\"0 -960 960 960\">\n",
              "    <path d=\"M120-120v-720h720v720H120Zm60-500h600v-160H180v160Zm220 220h160v-160H400v160Zm0 220h160v-160H400v160ZM180-400h160v-160H180v160Zm440 0h160v-160H620v160ZM180-180h160v-160H180v160Zm440 0h160v-160H620v160Z\"/>\n",
              "  </svg>\n",
              "    </button>\n",
              "\n",
              "  <style>\n",
              "    .colab-df-container {\n",
              "      display:flex;\n",
              "      gap: 12px;\n",
              "    }\n",
              "\n",
              "    .colab-df-convert {\n",
              "      background-color: #E8F0FE;\n",
              "      border: none;\n",
              "      border-radius: 50%;\n",
              "      cursor: pointer;\n",
              "      display: none;\n",
              "      fill: #1967D2;\n",
              "      height: 32px;\n",
              "      padding: 0 0 0 0;\n",
              "      width: 32px;\n",
              "    }\n",
              "\n",
              "    .colab-df-convert:hover {\n",
              "      background-color: #E2EBFA;\n",
              "      box-shadow: 0px 1px 2px rgba(60, 64, 67, 0.3), 0px 1px 3px 1px rgba(60, 64, 67, 0.15);\n",
              "      fill: #174EA6;\n",
              "    }\n",
              "\n",
              "    .colab-df-buttons div {\n",
              "      margin-bottom: 4px;\n",
              "    }\n",
              "\n",
              "    [theme=dark] .colab-df-convert {\n",
              "      background-color: #3B4455;\n",
              "      fill: #D2E3FC;\n",
              "    }\n",
              "\n",
              "    [theme=dark] .colab-df-convert:hover {\n",
              "      background-color: #434B5C;\n",
              "      box-shadow: 0px 1px 3px 1px rgba(0, 0, 0, 0.15);\n",
              "      filter: drop-shadow(0px 1px 2px rgba(0, 0, 0, 0.3));\n",
              "      fill: #FFFFFF;\n",
              "    }\n",
              "  </style>\n",
              "\n",
              "    <script>\n",
              "      const buttonEl =\n",
              "        document.querySelector('#df-91671e1c-299c-47cd-9c95-ee23d121a661 button.colab-df-convert');\n",
              "      buttonEl.style.display =\n",
              "        google.colab.kernel.accessAllowed ? 'block' : 'none';\n",
              "\n",
              "      async function convertToInteractive(key) {\n",
              "        const element = document.querySelector('#df-91671e1c-299c-47cd-9c95-ee23d121a661');\n",
              "        const dataTable =\n",
              "          await google.colab.kernel.invokeFunction('convertToInteractive',\n",
              "                                                    [key], {});\n",
              "        if (!dataTable) return;\n",
              "\n",
              "        const docLinkHtml = 'Like what you see? Visit the ' +\n",
              "          '<a target=\"_blank\" href=https://colab.research.google.com/notebooks/data_table.ipynb>data table notebook</a>'\n",
              "          + ' to learn more about interactive tables.';\n",
              "        element.innerHTML = '';\n",
              "        dataTable['output_type'] = 'display_data';\n",
              "        await google.colab.output.renderOutput(dataTable, element);\n",
              "        const docLink = document.createElement('div');\n",
              "        docLink.innerHTML = docLinkHtml;\n",
              "        element.appendChild(docLink);\n",
              "      }\n",
              "    </script>\n",
              "  </div>\n",
              "\n",
              "\n",
              "<div id=\"df-e8a7b688-951f-4484-8103-769a9ac5c9c8\">\n",
              "  <button class=\"colab-df-quickchart\" onclick=\"quickchart('df-e8a7b688-951f-4484-8103-769a9ac5c9c8')\"\n",
              "            title=\"Suggest charts\"\n",
              "            style=\"display:none;\">\n",
              "\n",
              "<svg xmlns=\"http://www.w3.org/2000/svg\" height=\"24px\"viewBox=\"0 0 24 24\"\n",
              "     width=\"24px\">\n",
              "    <g>\n",
              "        <path d=\"M19 3H5c-1.1 0-2 .9-2 2v14c0 1.1.9 2 2 2h14c1.1 0 2-.9 2-2V5c0-1.1-.9-2-2-2zM9 17H7v-7h2v7zm4 0h-2V7h2v10zm4 0h-2v-4h2v4z\"/>\n",
              "    </g>\n",
              "</svg>\n",
              "  </button>\n",
              "\n",
              "<style>\n",
              "  .colab-df-quickchart {\n",
              "      --bg-color: #E8F0FE;\n",
              "      --fill-color: #1967D2;\n",
              "      --hover-bg-color: #E2EBFA;\n",
              "      --hover-fill-color: #174EA6;\n",
              "      --disabled-fill-color: #AAA;\n",
              "      --disabled-bg-color: #DDD;\n",
              "  }\n",
              "\n",
              "  [theme=dark] .colab-df-quickchart {\n",
              "      --bg-color: #3B4455;\n",
              "      --fill-color: #D2E3FC;\n",
              "      --hover-bg-color: #434B5C;\n",
              "      --hover-fill-color: #FFFFFF;\n",
              "      --disabled-bg-color: #3B4455;\n",
              "      --disabled-fill-color: #666;\n",
              "  }\n",
              "\n",
              "  .colab-df-quickchart {\n",
              "    background-color: var(--bg-color);\n",
              "    border: none;\n",
              "    border-radius: 50%;\n",
              "    cursor: pointer;\n",
              "    display: none;\n",
              "    fill: var(--fill-color);\n",
              "    height: 32px;\n",
              "    padding: 0;\n",
              "    width: 32px;\n",
              "  }\n",
              "\n",
              "  .colab-df-quickchart:hover {\n",
              "    background-color: var(--hover-bg-color);\n",
              "    box-shadow: 0 1px 2px rgba(60, 64, 67, 0.3), 0 1px 3px 1px rgba(60, 64, 67, 0.15);\n",
              "    fill: var(--button-hover-fill-color);\n",
              "  }\n",
              "\n",
              "  .colab-df-quickchart-complete:disabled,\n",
              "  .colab-df-quickchart-complete:disabled:hover {\n",
              "    background-color: var(--disabled-bg-color);\n",
              "    fill: var(--disabled-fill-color);\n",
              "    box-shadow: none;\n",
              "  }\n",
              "\n",
              "  .colab-df-spinner {\n",
              "    border: 2px solid var(--fill-color);\n",
              "    border-color: transparent;\n",
              "    border-bottom-color: var(--fill-color);\n",
              "    animation:\n",
              "      spin 1s steps(1) infinite;\n",
              "  }\n",
              "\n",
              "  @keyframes spin {\n",
              "    0% {\n",
              "      border-color: transparent;\n",
              "      border-bottom-color: var(--fill-color);\n",
              "      border-left-color: var(--fill-color);\n",
              "    }\n",
              "    20% {\n",
              "      border-color: transparent;\n",
              "      border-left-color: var(--fill-color);\n",
              "      border-top-color: var(--fill-color);\n",
              "    }\n",
              "    30% {\n",
              "      border-color: transparent;\n",
              "      border-left-color: var(--fill-color);\n",
              "      border-top-color: var(--fill-color);\n",
              "      border-right-color: var(--fill-color);\n",
              "    }\n",
              "    40% {\n",
              "      border-color: transparent;\n",
              "      border-right-color: var(--fill-color);\n",
              "      border-top-color: var(--fill-color);\n",
              "    }\n",
              "    60% {\n",
              "      border-color: transparent;\n",
              "      border-right-color: var(--fill-color);\n",
              "    }\n",
              "    80% {\n",
              "      border-color: transparent;\n",
              "      border-right-color: var(--fill-color);\n",
              "      border-bottom-color: var(--fill-color);\n",
              "    }\n",
              "    90% {\n",
              "      border-color: transparent;\n",
              "      border-bottom-color: var(--fill-color);\n",
              "    }\n",
              "  }\n",
              "</style>\n",
              "\n",
              "  <script>\n",
              "    async function quickchart(key) {\n",
              "      const quickchartButtonEl =\n",
              "        document.querySelector('#' + key + ' button');\n",
              "      quickchartButtonEl.disabled = true;  // To prevent multiple clicks.\n",
              "      quickchartButtonEl.classList.add('colab-df-spinner');\n",
              "      try {\n",
              "        const charts = await google.colab.kernel.invokeFunction(\n",
              "            'suggestCharts', [key], {});\n",
              "      } catch (error) {\n",
              "        console.error('Error during call to suggestCharts:', error);\n",
              "      }\n",
              "      quickchartButtonEl.classList.remove('colab-df-spinner');\n",
              "      quickchartButtonEl.classList.add('colab-df-quickchart-complete');\n",
              "    }\n",
              "    (() => {\n",
              "      let quickchartButtonEl =\n",
              "        document.querySelector('#df-e8a7b688-951f-4484-8103-769a9ac5c9c8 button');\n",
              "      quickchartButtonEl.style.display =\n",
              "        google.colab.kernel.accessAllowed ? 'block' : 'none';\n",
              "    })();\n",
              "  </script>\n",
              "</div>\n",
              "\n",
              "    </div>\n",
              "  </div>\n"
            ],
            "application/vnd.google.colaboratory.intrinsic+json": {
              "type": "dataframe",
              "variable_name": "auto_sales_data",
              "summary": "{\n  \"name\": \"auto_sales_data\",\n  \"rows\": 2747,\n  \"fields\": [\n    {\n      \"column\": \"ORDERNUMBER\",\n      \"properties\": {\n        \"dtype\": \"number\",\n        \"std\": 91,\n        \"min\": 10100,\n        \"max\": 10425,\n        \"num_unique_values\": 298,\n        \"samples\": [\n          10195,\n          10355,\n          10177\n        ],\n        \"semantic_type\": \"\",\n        \"description\": \"\"\n      }\n    },\n    {\n      \"column\": \"QUANTITYORDERED\",\n      \"properties\": {\n        \"dtype\": \"number\",\n        \"std\": 9,\n        \"min\": 6,\n        \"max\": 97,\n        \"num_unique_values\": 58,\n        \"samples\": [\n          30,\n          29,\n          19\n        ],\n        \"semantic_type\": \"\",\n        \"description\": \"\"\n      }\n    },\n    {\n      \"column\": \"PRICEEACH\",\n      \"properties\": {\n        \"dtype\": \"number\",\n        \"std\": 42.04254924789499,\n        \"min\": 26.88,\n        \"max\": 252.87,\n        \"num_unique_values\": 1843,\n        \"samples\": [\n          73.61,\n          39.43,\n          110.96\n        ],\n        \"semantic_type\": \"\",\n        \"description\": \"\"\n      }\n    },\n    {\n      \"column\": \"ORDERLINENUMBER\",\n      \"properties\": {\n        \"dtype\": \"number\",\n        \"std\": 4,\n        \"min\": 1,\n        \"max\": 18,\n        \"num_unique_values\": 18,\n        \"samples\": [\n          2,\n          5,\n          12\n        ],\n        \"semantic_type\": \"\",\n        \"description\": \"\"\n      }\n    },\n    {\n      \"column\": \"SALES\",\n      \"properties\": {\n        \"dtype\": \"number\",\n        \"std\": 1838.953900544869,\n        \"min\": 482.13,\n        \"max\": 14082.8,\n        \"num_unique_values\": 2690,\n        \"samples\": [\n          1649.18,\n          2168.5,\n          2694.72\n        ],\n        \"semantic_type\": \"\",\n        \"description\": \"\"\n      }\n    },\n    {\n      \"column\": \"ORDERDATE\",\n      \"properties\": {\n        \"dtype\": \"object\",\n        \"num_unique_values\": 246,\n        \"samples\": [\n          \"05/12/2018\",\n          \"18/11/2018\",\n          \"11/05/2019\"\n        ],\n        \"semantic_type\": \"\",\n        \"description\": \"\"\n      }\n    },\n    {\n      \"column\": \"DAYS_SINCE_LASTORDER\",\n      \"properties\": {\n        \"dtype\": \"number\",\n        \"std\": 819,\n        \"min\": 42,\n        \"max\": 3562,\n        \"num_unique_values\": 1832,\n        \"samples\": [\n          618,\n          2891,\n          2362\n        ],\n        \"semantic_type\": \"\",\n        \"description\": \"\"\n      }\n    },\n    {\n      \"column\": \"STATUS\",\n      \"properties\": {\n        \"dtype\": \"category\",\n        \"num_unique_values\": 6,\n        \"samples\": [\n          \"Shipped\",\n          \"Disputed\",\n          \"Resolved\"\n        ],\n        \"semantic_type\": \"\",\n        \"description\": \"\"\n      }\n    },\n    {\n      \"column\": \"PRODUCTLINE\",\n      \"properties\": {\n        \"dtype\": \"category\",\n        \"num_unique_values\": 7,\n        \"samples\": [\n          \"Motorcycles\",\n          \"Classic Cars\",\n          \"Ships\"\n        ],\n        \"semantic_type\": \"\",\n        \"description\": \"\"\n      }\n    },\n    {\n      \"column\": \"MSRP\",\n      \"properties\": {\n        \"dtype\": \"number\",\n        \"std\": 40,\n        \"min\": 33,\n        \"max\": 214,\n        \"num_unique_values\": 80,\n        \"samples\": [\n          101,\n          95,\n          142\n        ],\n        \"semantic_type\": \"\",\n        \"description\": \"\"\n      }\n    },\n    {\n      \"column\": \"PRODUCTCODE\",\n      \"properties\": {\n        \"dtype\": \"category\",\n        \"num_unique_values\": 109,\n        \"samples\": [\n          \"S24_3969\",\n          \"S12_3148\",\n          \"S10_4757\"\n        ],\n        \"semantic_type\": \"\",\n        \"description\": \"\"\n      }\n    },\n    {\n      \"column\": \"CUSTOMERNAME\",\n      \"properties\": {\n        \"dtype\": \"category\",\n        \"num_unique_values\": 89,\n        \"samples\": [\n          \"Atelier graphique\",\n          \"Petit Auto\",\n          \"West Coast Collectables Co.\"\n        ],\n        \"semantic_type\": \"\",\n        \"description\": \"\"\n      }\n    },\n    {\n      \"column\": \"PHONE\",\n      \"properties\": {\n        \"dtype\": \"category\",\n        \"num_unique_values\": 88,\n        \"samples\": [\n          \"3105552373\",\n          \"2125557818\",\n          \"61-7-3844-6555\"\n        ],\n        \"semantic_type\": \"\",\n        \"description\": \"\"\n      }\n    },\n    {\n      \"column\": \"ADDRESSLINE1\",\n      \"properties\": {\n        \"dtype\": \"category\",\n        \"num_unique_values\": 89,\n        \"samples\": [\n          \"54, rue Royale\",\n          \"Rue Joseph-Bens 532\",\n          \"3675 Furth Circle\"\n        ],\n        \"semantic_type\": \"\",\n        \"description\": \"\"\n      }\n    },\n    {\n      \"column\": \"CITY\",\n      \"properties\": {\n        \"dtype\": \"category\",\n        \"num_unique_values\": 71,\n        \"samples\": [\n          \"South Brisbane\",\n          \"NYC\",\n          \"San Jose\"\n        ],\n        \"semantic_type\": \"\",\n        \"description\": \"\"\n      }\n    },\n    {\n      \"column\": \"POSTALCODE\",\n      \"properties\": {\n        \"dtype\": \"category\",\n        \"num_unique_values\": 73,\n        \"samples\": [\n          \"94217\",\n          \"92561\",\n          \"50553\"\n        ],\n        \"semantic_type\": \"\",\n        \"description\": \"\"\n      }\n    },\n    {\n      \"column\": \"COUNTRY\",\n      \"properties\": {\n        \"dtype\": \"category\",\n        \"num_unique_values\": 19,\n        \"samples\": [\n          \"USA\",\n          \"Austria\",\n          \"Japan\"\n        ],\n        \"semantic_type\": \"\",\n        \"description\": \"\"\n      }\n    },\n    {\n      \"column\": \"CONTACTLASTNAME\",\n      \"properties\": {\n        \"dtype\": \"category\",\n        \"num_unique_values\": 76,\n        \"samples\": [\n          \"Hirano\",\n          \"Nelson\",\n          \"Brown\"\n        ],\n        \"semantic_type\": \"\",\n        \"description\": \"\"\n      }\n    },\n    {\n      \"column\": \"CONTACTFIRSTNAME\",\n      \"properties\": {\n        \"dtype\": \"category\",\n        \"num_unique_values\": 72,\n        \"samples\": [\n          \"Juri\",\n          \"Victoria\",\n          \"Violeta\"\n        ],\n        \"semantic_type\": \"\",\n        \"description\": \"\"\n      }\n    },\n    {\n      \"column\": \"DEALSIZE\",\n      \"properties\": {\n        \"dtype\": \"category\",\n        \"num_unique_values\": 3,\n        \"samples\": [\n          \"Small\",\n          \"Medium\",\n          \"Large\"\n        ],\n        \"semantic_type\": \"\",\n        \"description\": \"\"\n      }\n    }\n  ]\n}"
            }
          },
          "metadata": {},
          "execution_count": 5
        }
      ]
    },
    {
      "cell_type": "markdown",
      "source": [
        "#Step 2: Data Understanding (CRISP-DM Phase 2)\n",
        "Now that we have loaded the dataset, we can observe the following:\n",
        "\n",
        "##Key Columns:\n",
        "ORDERNUMBER: Unique identifier for each order.\n",
        "\n",
        "QUANTITYORDERED: Number of items in each order.\n",
        "\n",
        "PRICEEACH: Price per item.\n",
        "\n",
        "SALES: Total sales value (calculated as QUANTITYORDERED * PRICEEACH).\n",
        "\n",
        "ORDERDATE: Date the order was placed.\n",
        "\n",
        "DAYS_SINCE_LASTORDER: Number of days since the last order for the customer.\n",
        "\n",
        "STATUS: Status of the order (e.g., \"Shipped\", \"Cancelled\").\n",
        "\n",
        "PRODUCTLINE: Category of the product.\n",
        "\n",
        "MSRP: Manufacturer’s suggested retail price.\n",
        "\n",
        "CUSTOMERNAME: Customer placing the order.\n",
        "\n",
        "PHONE, ADDRESS, CITY, POSTALCODE, COUNTRY: Customer contact details.\n",
        "\n",
        "DEALSIZE: The size of the order (Small, Medium, Large).\n",
        "\n",
        "#Initial Observations:\n",
        "The data appears fairly structured, with clearly defined columns.\n",
        "It includes both quantitative data (e.g., QUANTITYORDERED, PRICEEACH) and categorical data (e.g., STATUS, PRODUCTLINE).\n",
        "There are various customer details and product attributes, which may be useful for identifying patterns.\n"
      ],
      "metadata": {
        "id": "ivUjBlHtuXn6"
      }
    },
    {
      "cell_type": "markdown",
      "source": [
        "##Missing Values:\n",
        "There are no missing values in the dataset, which is great because it means we can directly proceed with analysis without the need for data imputation or handling of null values.\n",
        "Statistical Summary:\n",
        "QUANTITYORDERED: The number of items ordered ranges from 6 to 97, with a mean of 35.1.\n",
        "PRICEEACH: The price of items varies significantly, from $26.88 to $252.87, with an average price of around $101.10.\n",
        "SALES: Total sales for individual orders range from $482.13 to $14,082.80, with an average of $3,553.\n",
        "DAYS_SINCE_LASTORDER: There is a wide range of time since the last order, from 42 days to 3,562 days.\n",
        "MSRP: Manufacturer’s suggested retail prices range from $33 to $214, with an average MSRP of $100.69."
      ],
      "metadata": {
        "id": "fovkLbUKur2X"
      }
    },
    {
      "cell_type": "code",
      "source": [
        "\n",
        "# Check for missing values and get a statistical summary\n",
        "missing_values = auto_sales_data.isnull().sum()\n",
        "print(\"Missing Values:\\n\", missing_values)\n"
      ],
      "metadata": {
        "colab": {
          "base_uri": "https://localhost:8080/"
        },
        "id": "1-c1UhJdtze2",
        "outputId": "def225b4-de32-4b5d-c87d-2a18133613e1"
      },
      "execution_count": 6,
      "outputs": [
        {
          "output_type": "stream",
          "name": "stdout",
          "text": [
            "Missing Values:\n",
            " ORDERNUMBER             0\n",
            "QUANTITYORDERED         0\n",
            "PRICEEACH               0\n",
            "ORDERLINENUMBER         0\n",
            "SALES                   0\n",
            "ORDERDATE               0\n",
            "DAYS_SINCE_LASTORDER    0\n",
            "STATUS                  0\n",
            "PRODUCTLINE             0\n",
            "MSRP                    0\n",
            "PRODUCTCODE             0\n",
            "CUSTOMERNAME            0\n",
            "PHONE                   0\n",
            "ADDRESSLINE1            0\n",
            "CITY                    0\n",
            "POSTALCODE              0\n",
            "COUNTRY                 0\n",
            "CONTACTLASTNAME         0\n",
            "CONTACTFIRSTNAME        0\n",
            "DEALSIZE                0\n",
            "dtype: int64\n"
          ]
        }
      ]
    },
    {
      "cell_type": "code",
      "source": [
        "summary_statistics = auto_sales_data.describe()\n",
        "print(\"Summary Statistics:\\n\", summary_statistics)"
      ],
      "metadata": {
        "colab": {
          "base_uri": "https://localhost:8080/"
        },
        "id": "-g_ExqpJt-Cl",
        "outputId": "bd9de63e-92a2-405b-d197-32725ba1e298"
      },
      "execution_count": 7,
      "outputs": [
        {
          "output_type": "stream",
          "name": "stdout",
          "text": [
            "Summary Statistics:\n",
            "         ORDERNUMBER  QUANTITYORDERED    PRICEEACH  ORDERLINENUMBER  \\\n",
            "count   2747.000000      2747.000000  2747.000000      2747.000000   \n",
            "mean   10259.761558        35.103021   101.098952         6.491081   \n",
            "std       91.877521         9.762135    42.042549         4.230544   \n",
            "min    10100.000000         6.000000    26.880000         1.000000   \n",
            "25%    10181.000000        27.000000    68.745000         3.000000   \n",
            "50%    10264.000000        35.000000    95.550000         6.000000   \n",
            "75%    10334.500000        43.000000   127.100000         9.000000   \n",
            "max    10425.000000        97.000000   252.870000        18.000000   \n",
            "\n",
            "              SALES  DAYS_SINCE_LASTORDER         MSRP  \n",
            "count   2747.000000           2747.000000  2747.000000  \n",
            "mean    3553.047583           1757.085912   100.691664  \n",
            "std     1838.953901            819.280576    40.114802  \n",
            "min      482.130000             42.000000    33.000000  \n",
            "25%     2204.350000           1077.000000    68.000000  \n",
            "50%     3184.800000           1761.000000    99.000000  \n",
            "75%     4503.095000           2436.500000   124.000000  \n",
            "max    14082.800000           3562.000000   214.000000  \n"
          ]
        }
      ]
    },
    {
      "cell_type": "code",
      "source": [
        "\n",
        "# Plotting distribution of key variables\n",
        "fig, ax = plt.subplots(3, 2, figsize=(12, 10))\n",
        "\n",
        "# Distribution of Sales\n",
        "ax[0, 0].hist(auto_sales_data['SALES'], bins=30, color='skyblue')\n",
        "ax[0, 0].set_title('Distribution of Sales')\n",
        "ax[0, 0].set_xlabel('Sales')\n",
        "ax[0, 0].set_ylabel('Frequency')\n",
        "\n",
        "# Distribution of Deal Size\n",
        "auto_sales_data['DEALSIZE'].value_counts().plot(kind='bar', color='lightgreen', ax=ax[0, 1])\n",
        "ax[0, 1].set_title('Deal Size Distribution')\n",
        "ax[0, 1].set_xlabel('Deal Size')\n",
        "ax[0, 1].set_ylabel('Frequency')\n",
        "\n",
        "# Distribution of Product Line\n",
        "auto_sales_data['PRODUCTLINE'].value_counts().plot(kind='bar', color='lightcoral', ax=ax[1, 0])\n",
        "ax[1, 0].set_title('Product Line Distribution')\n",
        "ax[1, 0].set_xlabel('Product Line')\n",
        "ax[1, 0].set_ylabel('Frequency')\n",
        "\n",
        "# Distribution of Days Since Last Order\n",
        "ax[1, 1].hist(auto_sales_data['DAYS_SINCE_LASTORDER'], bins=30, color='gold')\n",
        "ax[1, 1].set_title('Days Since Last Order Distribution')\n",
        "ax[1, 1].set_xlabel('Days Since Last Order')\n",
        "ax[1, 1].set_ylabel('Frequency')\n",
        "\n",
        "# Relationship between Deal Size and Sales\n",
        "auto_sales_data.groupby('DEALSIZE')['SALES'].mean().plot(kind='bar', color='purple', ax=ax[2, 0])\n",
        "ax[2, 0].set_title('Average Sales by Deal Size')\n",
        "ax[2, 0].set_xlabel('Deal Size')\n",
        "ax[2, 0].set_ylabel('Average Sales')\n",
        "\n",
        "# Relationship between Product Line and Sales\n",
        "auto_sales_data.groupby('PRODUCTLINE')['SALES'].mean().plot(kind='bar', color='teal', ax=ax[2, 1])\n",
        "ax[2, 1].set_title('Average Sales by Product Line')\n",
        "ax[2, 1].set_xlabel('Product Line')\n",
        "ax[2, 1].set_ylabel('Average Sales')\n",
        "\n",
        "plt.tight_layout()\n",
        "plt.show()"
      ],
      "metadata": {
        "colab": {
          "base_uri": "https://localhost:8080/",
          "height": 1000
        },
        "id": "uD_O-ZJYuANe",
        "outputId": "b6ff61b9-50a2-457c-a287-3cad349f9ce5"
      },
      "execution_count": 8,
      "outputs": [
        {
          "output_type": "display_data",
          "data": {
            "text/plain": [
              "<Figure size 1200x1000 with 6 Axes>"
            ],
            "image/png": "[encoded data removed]"
          },
          "metadata": {}
        }
      ]
    },
    {
      "cell_type": "code",
      "source": [],
      "metadata": {
        "id": "6l2OJ9YTuCRB"
      },
      "execution_count": null,
      "outputs": []
    },
    {
      "cell_type": "markdown",
      "source": [
        "#Step3 . Data Preparation\n"
      ],
      "metadata": {
        "id": "OiGb_XPFuMBX"
      }
    },
    {
      "cell_type": "code",
      "source": [
        "from sklearn.model_selection import train_test_split\n",
        "from sklearn.preprocessing import LabelEncoder\n",
        "\n",
        "# Convert ORDERDATE to datetime\n",
        "auto_sales_data['ORDERDATE'] = pd.to_datetime(auto_sales_data['ORDERDATE'], format='%d/%m/%Y')\n",
        "\n",
        "# Encode categorical variables (e.g., DEALSIZE, PRODUCTLINE)\n",
        "le_dealsize = LabelEncoder()\n",
        "auto_sales_data['DEALSIZE_ENCODED'] = le_dealsize.fit_transform(auto_sales_data['DEALSIZE'])\n",
        "\n",
        "le_productline = LabelEncoder()\n",
        "auto_sales_data['PRODUCTLINE_ENCODED'] = le_productline.fit_transform(auto_sales_data['PRODUCTLINE'])\n",
        "\n",
        "# Feature engineering: Creating a new feature \"Total Days since the first order\"\n",
        "auto_sales_data['TOTAL_DAYS'] = (auto_sales_data['ORDERDATE'] - auto_sales_data['ORDERDATE'].min()).dt.days\n",
        "\n",
        "# Split data into train and test sets (for modeling in the next phase)\n",
        "X = auto_sales_data[['QUANTITYORDERED', 'PRICEEACH', 'DAYS_SINCE_LASTORDER', 'DEALSIZE_ENCODED', 'PRODUCTLINE_ENCODED', 'MSRP', 'TOTAL_DAYS']]\n",
        "y = auto_sales_data['SALES']\n",
        "\n",
        "# Train-test split (80% train, 20% test)\n",
        "X_train, X_test, y_train, y_test = train_test_split(X, y, test_size=0.2, random_state=42)\n",
        "\n",
        "# Display the prepared data\n",
        "print(X_train.head())\n",
        "print(y_train.head())\n"
      ],
      "metadata": {
        "colab": {
          "base_uri": "https://localhost:8080/"
        },
        "id": "JpTXFmGqu6mC",
        "outputId": "18e529eb-d9e5-4a76-8424-f364ad10e067"
      },
      "execution_count": 9,
      "outputs": [
        {
          "output_type": "stream",
          "name": "stdout",
          "text": [
            "      QUANTITYORDERED  PRICEEACH  DAYS_SINCE_LASTORDER  DEALSIZE_ENCODED  \\\n",
            "1559               23     145.01                  1585                 1   \n",
            "790                38     138.58                   989                 1   \n",
            "1770               40      94.71                  2200                 1   \n",
            "480                49      43.13                  1166                 2   \n",
            "2033               33      84.77                  2679                 2   \n",
            "\n",
            "      PRODUCTLINE_ENCODED  MSRP  TOTAL_DAYS  \n",
            "1559                    3   122         851  \n",
            "790                     1    60         678  \n",
            "1770                    6    88         447  \n",
            "480                     6    53         191  \n",
            "2033                    2    72         231  \n",
            "1559    3335.23\n",
            "790     5266.04\n",
            "1770    3788.40\n",
            "480     2113.37\n",
            "2033    2797.41\n",
            "Name: SALES, dtype: float64\n"
          ]
        }
      ]
    },
    {
      "cell_type": "code",
      "source": [],
      "metadata": {
        "id": "BHrRRYpbu9La"
      },
      "execution_count": null,
      "outputs": []
    },
    {
      "cell_type": "markdown",
      "source": [
        "##Step 4: Modeling (CRISP-DM Phase 4)\n",
        "In this phase, we will build predictive models to forecast sales based on the prepared data. We will:\n",
        "\n",
        "Apply basic regression models (such as Linear Regression and Random Forest).\n",
        "Evaluate their performance using metrics like Mean Absolute Error (MAE) and R-squared (R²).\n",
        "Fine-tune the models to improve prediction accuracy."
      ],
      "metadata": {
        "id": "Wghg3EouvE8h"
      }
    },
    {
      "cell_type": "markdown",
      "source": [
        "1. Linear Regression Model\n"
      ],
      "metadata": {
        "id": "KbnvuxBYvLIo"
      }
    },
    {
      "cell_type": "code",
      "source": [
        "from sklearn.linear_model import LinearRegression\n",
        "from sklearn.metrics import mean_absolute_error, r2_score\n",
        "\n",
        "# Initialize and train the Linear Regression model\n",
        "lr_model = LinearRegression()\n",
        "lr_model.fit(X_train, y_train)\n",
        "\n",
        "# Make predictions on the test set\n",
        "y_pred_lr = lr_model.predict(X_test)\n",
        "\n",
        "# Evaluate the Linear Regression model\n",
        "mae_lr = mean_absolute_error(y_test, y_pred_lr)\n",
        "r2_lr = r2_score(y_test, y_pred_lr)\n",
        "\n",
        "print(f\"Linear Regression MAE: {mae_lr}\")\n",
        "print(f\"Linear Regression R²: {r2_lr}\")\n"
      ],
      "metadata": {
        "colab": {
          "base_uri": "https://localhost:8080/"
        },
        "id": "478vCBeyvGNv",
        "outputId": "c2404bdf-8b38-45df-82da-67b35baed6a2"
      },
      "execution_count": 10,
      "outputs": [
        {
          "output_type": "stream",
          "name": "stdout",
          "text": [
            "Linear Regression MAE: 288.5855513229531\n",
            "Linear Regression R²: 0.9464243828692486\n"
          ]
        }
      ]
    },
    {
      "cell_type": "code",
      "source": [
        "from sklearn.ensemble import RandomForestRegressor\n",
        "\n",
        "# Initialize and train the Random Forest Regressor\n",
        "rf_model = RandomForestRegressor(n_estimators=100, random_state=42)\n",
        "rf_model.fit(X_train, y_train)\n",
        "\n",
        "# Make predictions on the test set\n",
        "y_pred_rf = rf_model.predict(X_test)\n",
        "\n",
        "# Evaluate the Random Forest model\n",
        "mae_rf = mean_absolute_error(y_test, y_pred_rf)\n",
        "r2_rf = r2_score(y_test, y_pred_rf)\n",
        "\n",
        "print(f\"Random Forest MAE: {mae_rf}\")\n",
        "print(f\"Random Forest R²: {r2_rf}\")\n"
      ],
      "metadata": {
        "colab": {
          "base_uri": "https://localhost:8080/"
        },
        "id": "Rbb5l1KQvPiS",
        "outputId": "31d19b4c-560c-45cc-dc75-32ca44a67262"
      },
      "execution_count": 11,
      "outputs": [
        {
          "output_type": "stream",
          "name": "stdout",
          "text": [
            "Random Forest MAE: 63.44234581818193\n",
            "Random Forest R²: 0.9945228356518939\n"
          ]
        }
      ]
    },
    {
      "cell_type": "markdown",
      "source": [
        "##Step 4: Evaulation"
      ],
      "metadata": {
        "id": "9-aFBYP1wxMr"
      }
    },
    {
      "cell_type": "code",
      "source": [
        "# Compare performance of both models\n",
        "print(f\"Linear Regression: MAE = {mae_lr}, R² = {r2_lr}\")\n",
        "print(f\"Random Forest: MAE = {mae_rf}, R² = {r2_rf}\")\n",
        "\n",
        "if mae_rf < mae_lr:\n",
        "    print(\"Random Forest performs better based on MAE.\")\n",
        "else:\n",
        "    print(\"Linear Regression performs better based on MAE.\")\n"
      ],
      "metadata": {
        "colab": {
          "base_uri": "https://localhost:8080/"
        },
        "id": "XQIxM_yjvShf",
        "outputId": "bdd6dd80-558a-4363-a441-f02bc4d57132"
      },
      "execution_count": 12,
      "outputs": [
        {
          "output_type": "stream",
          "name": "stdout",
          "text": [
            "Linear Regression: MAE = 288.5855513229531, R² = 0.9464243828692486\n",
            "Random Forest: MAE = 63.44234581818193, R² = 0.9945228356518939\n",
            "Random Forest performs better based on MAE.\n"
          ]
        }
      ]
    },
    {
      "cell_type": "markdown",
      "source": [
        "#Step 4: Deployment"
      ],
      "metadata": {
        "id": "hbGbUaKfw7Sm"
      }
    },
    {
      "cell_type": "code",
      "source": [
        "import joblib\n",
        "\n",
        "# Save the trained Random Forest model\n",
        "joblib.dump(rf_model, 'random_forest_sales_model.pkl')\n",
        "\n",
        "# Load the model (to demonstrate saving and loading)\n",
        "loaded_model = joblib.load('random_forest_sales_model.pkl')\n",
        "\n",
        "# Example prediction using the loaded model\n",
        "sample_data = X_test.iloc[0].values.reshape(1, -1)  # Use a sample from the test set\n",
        "print(\"Predicted Sales:\", loaded_model.predict(sample_data))\n"
      ],
      "metadata": {
        "colab": {
          "base_uri": "https://localhost:8080/"
        },
        "id": "FYCn20VSvWZG",
        "outputId": "c5c3c455-2523-406b-9b4c-dd61059f3ae0"
      },
      "execution_count": 13,
      "outputs": [
        {
          "output_type": "stream",
          "name": "stdout",
          "text": [
            "Predicted Sales: [2411.5974]\n"
          ]
        },
        {
          "output_type": "stream",
          "name": "stderr",
          "text": [
            "/usr/local/lib/python3.10/dist-packages/sklearn/base.py:493: UserWarning: X does not have valid feature names, but RandomForestRegressor was fitted with feature names\n",
            "  warnings.warn(\n"
          ]
        }
      ]
    },
    {
      "cell_type": "code",
      "source": [],
      "metadata": {
        "id": "T3BLzULfvsFt"
      },
      "execution_count": null,
      "outputs": []
    }
  ]
}